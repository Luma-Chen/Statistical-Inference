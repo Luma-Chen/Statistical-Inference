{
  "nbformat": 4,
  "nbformat_minor": 0,
  "metadata": {
    "colab": {
      "name": "trabalhoIII.ipynb",
      "provenance": [],
      "collapsed_sections": []
    },
    "kernelspec": {
      "name": "python3",
      "display_name": "Python 3"
    },
    "language_info": {
      "name": "python"
    }
  },
  "cells": [
    {
      "cell_type": "markdown",
      "metadata": {
        "id": "e4f7qLQBKRh-"
      },
      "source": [
        "# **Trabalho III - Inferência Estatística**\n",
        "# **Responsável: Luma Chen**"
      ]
    },
    {
      "cell_type": "markdown",
      "metadata": {
        "id": "HLytDeaQKRK4"
      },
      "source": [
        "# **1- Testes de hipóteses - uma amostra**"
      ]
    },
    {
      "cell_type": "code",
      "metadata": {
        "colab": {
          "base_uri": "https://localhost:8080/"
        },
        "id": "SZ5dFbgCKN6C",
        "outputId": "80821c4b-d3e4-49ef-d83c-7710cdd3dfcb"
      },
      "source": [
        "import statistics\n",
        "import math\n",
        "\n",
        "data = [484.11, 459.49, 471.38, 512.01, 494.48, 528.63, 493.64, 485.03, 473.88, 501.59, 502.85, 538.08, 465.68, 495.03, 475.32, 529.41, \n",
        "        518.13, 464.32, 449.08, 489.27]\n",
        "mu = 500\n",
        "n = 20\n",
        "\n",
        "media = statistics.mean(data)\n",
        "sigma= math.sqrt(statistics.variance(data))\n",
        "z= (media - mu)/(sigma/math.sqrt(n))\n",
        "\n",
        "print(\"Média: \", media)\n",
        "print(\"Variância: \", sigma)\n",
        "print (\"Z: \", z)"
      ],
      "execution_count": null,
      "outputs": [
        {
          "output_type": "stream",
          "text": [
            "Média:  491.5705\n",
            "Variância:  24.793684356048587\n",
            "Z:  -1.5204626102079255\n"
          ],
          "name": "stdout"
        }
      ]
    },
    {
      "cell_type": "markdown",
      "metadata": {
        "id": "wbqeXJbQbltL"
      },
      "source": [
        "A hipótese nula é a de que as garrafas de vinho venham com 500 ml como está configurada a máquina. \n",
        "Já a hipótese alternativa diz que o volume de vinho das garrafas vem realmente menor como suspeita o fabricante. No entanto, com z a -1,5205, não podemos descartar a hipóteses nula, ou seja, as garrafas vem com o volume aceitável para um nível de confiança a 95%."
      ]
    },
    {
      "cell_type": "markdown",
      "metadata": {
        "id": "n2fwQMMoK5mX"
      },
      "source": [
        "# **2- Testes de hipóteses - teste t pareado**"
      ]
    },
    {
      "cell_type": "code",
      "metadata": {
        "colab": {
          "base_uri": "https://localhost:8080/"
        },
        "id": "Uyf9-LPh_upL",
        "outputId": "9bf335af-eb04-412b-eae4-fadd8d3e5695"
      },
      "source": [
        "import pandas as pd\n",
        "import numpy as np\n",
        "from scipy.stats import t\n",
        "\n",
        "df_cutsenti = pd.read_csv(\"CutSenti.csv\", sep = \",\")\n",
        "\n",
        "colunaPrinc = df_cutsenti[\"CutSenti\"]\n",
        "coluna= df_cutsenti[\"MinCut_T1_C\"]\n",
        "coluna2= df_cutsenti[\"MinCut_T1_C2\"]\n",
        "coluna3 = df_cutsenti[\"MinCut_T1_Exp\"]\n",
        "\n",
        "n= len(colunaPrinc)\n",
        "nu = n-1\n",
        "delta = colunaPrinc - coluna\n",
        "delta2 = colunaPrinc - coluna2\n",
        "delta3 = colunaPrinc - coluna3\n",
        "mu_d = 0\n",
        "x_bar = np.mean(delta)\n",
        "x_bar2 = np.mean(delta2)\n",
        "x_bar3 = np.mean(delta3)\n",
        "s = np.std(delta, ddof=1)\n",
        "s2 = np.std(delta2, ddof=1)\n",
        "s3 = np.std(delta3, ddof=1)\n",
        "\n",
        "tScore = (x_bar - mu_d)/(s/np.sqrt(n))\n",
        "tScore2 = (x_bar2 - mu_d)/(s2/np.sqrt(n))\n",
        "tScore3 = (x_bar3 - mu_d)/(s3/np.sqrt(n))\n",
        "print(\"Valor do t-escore: %.2f\" % tScore)\n",
        "print(\"Valor do t-escore: %.2f\" % tScore2)\n",
        "print(\"Valor do t-escore: %.2f \\n\" % tScore3)\n",
        "\n",
        "pvalue = 2 * t.cdf(-tScore , df=nu)\n",
        "pvalue2 = 2 * t.cdf(-tScore2 , df=nu)\n",
        "pvalue3 = 2 * t.cdf(-tScore3 , df=nu)\n",
        "print(\"p-value de MinCut_T1_C: %.4f\" % pvalue)\n",
        "print(\"p-value de MinCut_T1_C2: %.4f\" % pvalue2)\n",
        "print(\"p-value de MinCut_T1_Exp: %.4f\" % pvalue3)"
      ],
      "execution_count": null,
      "outputs": [
        {
          "output_type": "stream",
          "text": [
            "Valor do t-escore: 6.63\n",
            "Valor do t-escore: 5.24\n",
            "Valor do t-escore: 6.16 \n",
            "\n",
            "p-value de MinCut_T1_C: 0.0001\n",
            "p-value de MinCut_T1_C2: 0.0004\n",
            "p-value de MinCut_T1_Exp: 0.0001\n"
          ],
          "name": "stdout"
        }
      ]
    },
    {
      "cell_type": "markdown",
      "metadata": {
        "id": "L_f_SWBWc3uS"
      },
      "source": [
        "Nessa situação, a hipótese nula é a de não existir diferença estatisticamente significante entre CutSenti e cada uma das três variantes do MinCut. Já a hipótese alternativa é existir diferença, ou seja, mu_d diferente de zero. \n",
        "\n",
        "Nesse caso, nenhuma das variantes apresenta valores de p maior que o nível de significância igual a 0,01. Dessa forma, podemos concluir que há sim diferença entre CutSenti e todas as três variantes do MinCut, pois $p < \\alpha$ em todos os casos, logo, descartamos a hipótese nula para todos os 3 casos."
      ]
    }
  ]
}